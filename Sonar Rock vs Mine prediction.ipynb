{
 "cells": [
  {
   "cell_type": "code",
   "execution_count": 18,
   "id": "f6f20c08",
   "metadata": {},
   "outputs": [],
   "source": [
    "import pandas as pd\n",
    "import numpy as np\n",
    "import matplotlib.pyplot as plt\n",
    "from sklearn.linear_model import LogisticRegression\n",
    "from sklearn.metrics import accuracy_score\n"
   ]
  },
  {
   "cell_type": "code",
   "execution_count": 5,
   "id": "6a3a9c52",
   "metadata": {},
   "outputs": [],
   "source": [
    "sonar_data = pd.read_csv(\"F:\\poralekha\\programming\\python\\dataset\\Copy of sonar data.csv\",header = None)"
   ]
  },
  {
   "cell_type": "markdown",
   "id": "7cc6058e",
   "metadata": {},
   "source": [
    "## Data wrangling"
   ]
  },
  {
   "cell_type": "code",
   "execution_count": 9,
   "id": "b76191fb",
   "metadata": {},
   "outputs": [
    {
     "data": {
      "text/plain": [
       "0     0\n",
       "1     0\n",
       "2     0\n",
       "3     0\n",
       "4     0\n",
       "     ..\n",
       "56    0\n",
       "57    0\n",
       "58    0\n",
       "59    0\n",
       "60    0\n",
       "Length: 61, dtype: int64"
      ]
     },
     "execution_count": 9,
     "metadata": {},
     "output_type": "execute_result"
    }
   ],
   "source": [
    "## finding the missing data\n",
    "sonar_data.isnull().sum()"
   ]
  },
  {
   "cell_type": "markdown",
   "id": "34f27fee",
   "metadata": {},
   "source": [
    "Wooww !! There are no missing data "
   ]
  },
  {
   "cell_type": "code",
   "execution_count": 13,
   "id": "78579c24",
   "metadata": {},
   "outputs": [
    {
     "data": {
      "text/plain": [
       "M    111\n",
       "R     97\n",
       "Name: 60, dtype: int64"
      ]
     },
     "execution_count": 13,
     "metadata": {},
     "output_type": "execute_result"
    }
   ],
   "source": [
    "sonar_data[60].value_counts()"
   ]
  },
  {
   "cell_type": "markdown",
   "id": "000cdfa2",
   "metadata": {},
   "source": [
    "this is the target variable"
   ]
  },
  {
   "cell_type": "code",
   "execution_count": 15,
   "id": "f6ec5753",
   "metadata": {},
   "outputs": [
    {
     "name": "stdout",
     "output_type": "stream",
     "text": [
      "0      R\n",
      "1      R\n",
      "2      R\n",
      "3      R\n",
      "4      R\n",
      "      ..\n",
      "203    M\n",
      "204    M\n",
      "205    M\n",
      "206    M\n",
      "207    M\n",
      "Name: 60, Length: 208, dtype: object\n"
     ]
    }
   ],
   "source": [
    "## Defining the X and Y\n",
    "x = sonar_data.drop([60],axis = 1)\n",
    "y= sonar_data[60]\n",
    "print(y)"
   ]
  },
  {
   "cell_type": "code",
   "execution_count": 21,
   "id": "81857eb5",
   "metadata": {},
   "outputs": [],
   "source": [
    "from sklearn.model_selection import StratifiedKFold, cross_val_score\n",
    "sk_fold = StratifiedKFold(n_splits =5 )\n",
    "\n",
    "from sklearn.ensemble import RandomForestClassifier\n",
    "\n",
    "from sklearn.tree import DecisionTreeClassifier\n"
   ]
  },
  {
   "cell_type": "code",
   "execution_count": 22,
   "id": "3a0264cd",
   "metadata": {},
   "outputs": [],
   "source": [
    "rf = RandomForestClassifier()\n",
    "lgr = LogisticRegression()\n",
    "dt = DecisionTreeClassifier()\n"
   ]
  },
  {
   "cell_type": "code",
   "execution_count": 23,
   "id": "ba769405",
   "metadata": {},
   "outputs": [],
   "source": [
    "##  Creating a function for find the accuracy score \n",
    "def accuracy_check(model,x,y):\n",
    "    scores = cross_val_score(model, x , y, cv =sk_fold)\n",
    "    print(\"cross validation score is :\",scores)\n",
    "    print(\"Average score value is :\",scores.mean())\n",
    "    "
   ]
  },
  {
   "cell_type": "code",
   "execution_count": 26,
   "id": "1c36e134",
   "metadata": {},
   "outputs": [
    {
     "name": "stdout",
     "output_type": "stream",
     "text": [
      "Decision Tree\n",
      "cross validation score is : [0.52380952 0.5952381  0.54761905 0.75609756 0.68292683]\n",
      "Average score value is : 0.6211382113821139\n",
      "Random Forest\n",
      "cross validation score is : [0.45238095 0.57142857 0.66666667 0.75609756 0.68292683]\n",
      "Average score value is : 0.6259001161440186\n",
      "Logistic Regression\n",
      "cross validation score is : [0.45238095 0.76190476 0.61904762 0.82926829 0.48780488]\n",
      "Average score value is : 0.6300813008130082\n"
     ]
    }
   ],
   "source": [
    "## Call the function by the model name\n",
    "print(\"Decision Tree\")\n",
    "accuracy_check(dt,x,y)\n",
    "print(\"Random Forest\")\n",
    "accuracy_check(dt,x,y)\n",
    "print(\"Logistic Regression\")\n",
    "accuracy_check(lgr,x,y)"
   ]
  }
 ],
 "metadata": {
  "kernelspec": {
   "display_name": "Python 3 (ipykernel)",
   "language": "python",
   "name": "python3"
  },
  "language_info": {
   "codemirror_mode": {
    "name": "ipython",
    "version": 3
   },
   "file_extension": ".py",
   "mimetype": "text/x-python",
   "name": "python",
   "nbconvert_exporter": "python",
   "pygments_lexer": "ipython3",
   "version": "3.10.9"
  }
 },
 "nbformat": 4,
 "nbformat_minor": 5
}
